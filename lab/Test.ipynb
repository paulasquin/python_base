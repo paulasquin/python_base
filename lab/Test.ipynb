{
 "cells": [
  {
   "cell_type": "markdown",
   "id": "6a1f6a3a",
   "metadata": {},
   "source": [
    "# Test notebook"
   ]
  },
  {
   "cell_type": "markdown",
   "id": "cfcaeaa7",
   "metadata": {},
   "source": [
    "## Save procedure\n",
    "When you want to git your notebook, do not forget to:\n",
    "- Kernel > Restart & Clear Output\n",
    "- Save\n",
    "- Commit\n",
    "This way you will avoid giting your cell numbers and your test outputs as text or wose, as images.\n",
    "\n",
    "## Lab volume binding\n",
    "If you used docker, then your notebook will be saved under the *lab* folder. The *lab* folder from the docker container and the *lab* folder from your host machine are binded. What you do in one will be saved in the other"
   ]
  },
  {
   "cell_type": "code",
   "execution_count": null,
   "id": "66999467",
   "metadata": {},
   "outputs": [],
   "source": [
    "print(\"Hello World\")"
   ]
  },
  {
   "cell_type": "code",
   "execution_count": null,
   "id": "10f59d98",
   "metadata": {},
   "outputs": [],
   "source": []
  }
 ],
 "metadata": {
  "kernelspec": {
   "display_name": "Python 3",
   "language": "python",
   "name": "python3"
  },
  "language_info": {
   "codemirror_mode": {
    "name": "ipython",
    "version": 3
   },
   "file_extension": ".py",
   "mimetype": "text/x-python",
   "name": "python",
   "nbconvert_exporter": "python",
   "pygments_lexer": "ipython3",
   "version": "3.6.9"
  }
 },
 "nbformat": 4,
 "nbformat_minor": 5
}
